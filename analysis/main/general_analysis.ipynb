{
 "cells": [
  {
   "cell_type": "code",
   "execution_count": 5,
   "metadata": {},
   "outputs": [],
   "source": [
    "import pandas as pd\n",
    "import ir_datasets as irds\n",
    "from ir_measures import read_trec_qrels\n",
    "from ir_measures import * \n",
    "from ir_measures import evaluator\n",
    "import pyterrier as pt\n",
    "from scipy.stats import ttest_ind\n",
    "import os\n",
    "from os import path as path"
   ]
  },
  {
   "cell_type": "markdown",
   "metadata": {},
   "source": [
    "# Data Ingestion"
   ]
  },
  {
   "cell_type": "code",
   "execution_count": 6,
   "metadata": {},
   "outputs": [],
   "source": [
    "DIR = '..' # if this breaks replace with a full path to the repo\n",
    "\n",
    "DATASET = \"msmarco-passage/trec-dl-2019/judged\"\n",
    "qrel_directory = f'{DIR}/judgments/main/qrels/'\n",
    "annotation_directory = f'{DIR}/judgments/main/doccano/'"
   ]
  },
  {
   "cell_type": "code",
   "execution_count": 7,
   "metadata": {},
   "outputs": [],
   "source": [
    "dataset = irds.load(DATASET)\n",
    "original_qrels = pd.DataFrame(dataset.qrels_iter())"
   ]
  },
  {
   "cell_type": "code",
   "execution_count": null,
   "metadata": {},
   "outputs": [],
   "source": [
    "all_qrels = []\n",
    "for file in os.listdir(qrel_directory):\n",
    "    print(file)\n",
    "    if file.endswith('.txt'):\n",
    "        qrels = pd.DataFrame(read_trec_qrels(qrel_directory + file))\n",
    "        annotator = file.replace('.txt', '').replace('-qrels', '')\n",
    "        qrels['annotator'] = annotator\n",
    "        all_qrels.append(qrels)\n",
    "\n",
    "all_qrels = pd.concat(all_qrels)"
   ]
  },
  {
   "cell_type": "code",
   "execution_count": null,
   "metadata": {},
   "outputs": [],
   "source": [
    "all_comments = []\n",
    "for file in os.listdir(annotation_directory):\n",
    "    if file.endswith('.jsonl'):\n",
    "        comments = pd.read_json(annotation_directory + file, lines=True)\n",
    "        annotator = file.replace('.jsonl', '')\n",
    "        comments['annotator'] = annotator\n",
    "        # filter in case that comments 'Comments' column is an empty list\n",
    "        comments = comments[comments['Comments'].apply(lambda x: len(x) > 0)]\n",
    "        all_comments.append(comments)\n",
    "\n",
    "all_comments = pd.concat(all_comments)[['text', 'annotator', 'label', 'Comments']]\n",
    "all_comments['label'] = all_comments['label'].apply(lambda x: x[0])"
   ]
  },
  {
   "cell_type": "code",
   "execution_count": null,
   "metadata": {},
   "outputs": [],
   "source": [
    "RUN_DIR = f'{DIR}/runs/trec-dl-2019'\n",
    "BM25_TUNED = 'dl-19-official-input.bm25tuned_p.gz'\n",
    "BM25_BASE = 'dl-19-official-input.bm25base_p.gz'\n",
    "SET_ENCODER_COLBERT = 'colbert_monoelectra-base_msmarco-passage-trec-dl-2019-judged.run'\n",
    "COLBERT = 'maik-froebe-colbert-run.txt'\n",
    "SPLADE = 'maik-froebe-splade-run.txt'\n",
    "RANK_ZEPHYR = 'maik-froebe-rank-zephyr-run.txt'"
   ]
  },
  {
   "cell_type": "code",
   "execution_count": null,
   "metadata": {},
   "outputs": [],
   "source": [
    "BM25_TUNED_RUN = pt.io.read_results(path.join(RUN_DIR, BM25_TUNED)).rename(columns={'qid': 'query_id', 'docno': 'doc_id'})\n",
    "BM25_BASE_RUN = pt.io.read_results(path.join(RUN_DIR, BM25_BASE)).rename(columns={'qid': 'query_id', 'docno': 'doc_id'})\n",
    "SET_ENCODER_COLBERT_RUN = pt.io.read_results(path.join(RUN_DIR, SET_ENCODER_COLBERT)).rename(columns={'qid': 'query_id', 'docno': 'doc_id'})\n",
    "COLBERT_RUN = pt.io.read_results(path.join(RUN_DIR, COLBERT)).rename(columns={'qid': 'query_id', 'docno': 'doc_id'})\n",
    "SPLADE_RUN = pt.io.read_results(path.join(RUN_DIR, SPLADE)).rename(columns={'qid': 'query_id', 'docno': 'doc_id'})\n",
    "RANK_ZEPHYR_RUN = pt.io.read_results(path.join(RUN_DIR, RANK_ZEPHYR)).rename(columns={'qid': 'query_id', 'docno': 'doc_id'})\n",
    "\n",
    "runs = {\n",
    "    'bm25_tuned': BM25_TUNED_RUN,\n",
    "    'bm25_base': BM25_BASE_RUN,\n",
    "    'set_encoder_colbert': SET_ENCODER_COLBERT_RUN,\n",
    "    'colbert': COLBERT_RUN,\n",
    "    'splade': SPLADE_RUN,\n",
    "    'rank_zephyr': RANK_ZEPHYR_RUN\n",
    "}"
   ]
  }
 ],
 "metadata": {
  "kernelspec": {
   "display_name": "base",
   "language": "python",
   "name": "python3"
  },
  "language_info": {
   "codemirror_mode": {
    "name": "ipython",
    "version": 3
   },
   "file_extension": ".py",
   "mimetype": "text/x-python",
   "name": "python",
   "nbconvert_exporter": "python",
   "pygments_lexer": "ipython3",
   "version": "3.12.2"
  }
 },
 "nbformat": 4,
 "nbformat_minor": 2
}
