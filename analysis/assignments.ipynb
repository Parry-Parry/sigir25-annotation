{
 "cells": [
  {
   "cell_type": "code",
   "execution_count": 1,
   "metadata": {},
   "outputs": [
    {
     "name": "stderr",
     "output_type": "stream",
     "text": [
      "PyTerrier 0.10.0 has loaded Terrier 5.9 (built by craigm on 2024-05-02 17:40) and terrier-helper 0.0.8\n",
      "\n",
      "No etc/terrier.properties, using terrier.default.properties for bootstrap configuration.\n"
     ]
    }
   ],
   "source": [
    "import os\n",
    "import pyterrier as pt\n",
    "if not pt.started():\n",
    "    pt.init()\n",
    "import ir_datasets as irds\n",
    "import pandas as pd\n",
    "from ir_measures import *\n",
    "from ir_measures import evaluator\n",
    "from collections import defaultdict"
   ]
  },
  {
   "cell_type": "code",
   "execution_count": 2,
   "metadata": {},
   "outputs": [],
   "source": [
    "DATASET = \"msmarco-passage/trec-dl-2019/judged\"\n",
    "RUN_DIR = '/home/andrew/Documents/Code/Annotation/runs/trec-dl-2019'"
   ]
  },
  {
   "cell_type": "code",
   "execution_count": 3,
   "metadata": {},
   "outputs": [],
   "source": [
    "dataset = irds.load(DATASET)\n",
    "original_qrels = pd.DataFrame(dataset.qrels_iter())"
   ]
  },
  {
   "cell_type": "markdown",
   "metadata": {},
   "source": [
    "## QREL CHECKS"
   ]
  },
  {
   "cell_type": "code",
   "execution_count": 4,
   "metadata": {},
   "outputs": [],
   "source": [
    "values = original_qrels.relevance.value_counts()"
   ]
  },
  {
   "cell_type": "code",
   "execution_count": 5,
   "metadata": {},
   "outputs": [],
   "source": [
    "original_qrels['id'] = [i for i in range(len(original_qrels))]"
   ]
  },
  {
   "cell_type": "code",
   "execution_count": 6,
   "metadata": {},
   "outputs": [],
   "source": [
    "id_lookup = defaultdict(dict)\n",
    "\n",
    "for row in original_qrels.itertuples():\n",
    "    id_lookup[row.query_id][row.doc_id] = row.id"
   ]
  },
  {
   "cell_type": "code",
   "execution_count": 7,
   "metadata": {},
   "outputs": [
    {
     "data": {
      "text/plain": [
       "9260"
      ]
     },
     "execution_count": 7,
     "metadata": {},
     "output_type": "execute_result"
    }
   ],
   "source": [
    "len(original_qrels) # total number of judgements"
   ]
  },
  {
   "cell_type": "code",
   "execution_count": 8,
   "metadata": {},
   "outputs": [
    {
     "data": {
      "text/plain": [
       "55.70194384449244"
      ]
     },
     "execution_count": 8,
     "metadata": {},
     "output_type": "execute_result"
    }
   ],
   "source": [
    "values[0] / (values[0] + values[1] + values[2] + values[3]) * 100 # percentage of non-relevant judgements"
   ]
  },
  {
   "cell_type": "code",
   "execution_count": 9,
   "metadata": {},
   "outputs": [
    {
     "data": {
      "text/plain": [
       "72.9913606911447"
      ]
     },
     "execution_count": 9,
     "metadata": {},
     "output_type": "execute_result"
    }
   ],
   "source": [
    "(values[0] + values[1]) / (values[0] + values[1] + values[2] + values[3]) * 100 # percentage of non-relevant and partially relevant judgements"
   ]
  },
  {
   "cell_type": "markdown",
   "metadata": {},
   "source": [
    "## Distribution Stats"
   ]
  },
  {
   "cell_type": "code",
   "execution_count": 10,
   "metadata": {},
   "outputs": [],
   "source": [
    "NUM_ANNOTATORS = 8"
   ]
  },
  {
   "cell_type": "code",
   "execution_count": 11,
   "metadata": {},
   "outputs": [],
   "source": [
    "filtered_qrels = original_qrels[original_qrels.relevance != 0]\n",
    "nonrel_qrels = original_qrels[original_qrels.relevance == 0]"
   ]
  },
  {
   "cell_type": "code",
   "execution_count": 12,
   "metadata": {},
   "outputs": [
    {
     "data": {
      "text/plain": [
       "query_id\n",
       "168216     293\n",
       "183378     222\n",
       "1133167    207\n",
       "1124210    191\n",
       "855410     179\n",
       "19335      174\n",
       "264014     171\n",
       "156493     167\n",
       "1121709    166\n",
       "104861     165\n",
       "1037798    141\n",
       "1110199    140\n",
       "1117099    138\n",
       "962179     136\n",
       "1114819    129\n",
       "1115776    128\n",
       "1129237    119\n",
       "1106007    118\n",
       "1063750    116\n",
       "146187     115\n",
       "207786     113\n",
       "1103812    110\n",
       "405717     109\n",
       "130510     105\n",
       "1113437    103\n",
       "1121402    100\n",
       "915593     100\n",
       "1114646     99\n",
       "443396      94\n",
       "490595      93\n",
       "527433      85\n",
       "359349      83\n",
       "833860      82\n",
       "1112341     81\n",
       "489204      79\n",
       "182539      79\n",
       "87181       75\n",
       "573724      72\n",
       "131843      68\n",
       "451602      66\n",
       "148538      58\n",
       "87452       58\n",
       "47923       31\n",
       "Name: count, dtype: int64"
      ]
     },
     "execution_count": 12,
     "metadata": {},
     "output_type": "execute_result"
    }
   ],
   "source": [
    "# query_ids value counts nonrel_qrels\n",
    "nonrel_qrels.query_id.value_counts()"
   ]
  },
  {
   "cell_type": "code",
   "execution_count": 13,
   "metadata": {},
   "outputs": [],
   "source": [
    "rel_query_pools = filtered_qrels.groupby('query_id').doc_id.apply(list).to_dict()\n",
    "nonrel_query_pools = nonrel_qrels.groupby('query_id').doc_id.apply(list).to_dict()"
   ]
  },
  {
   "cell_type": "code",
   "execution_count": 14,
   "metadata": {},
   "outputs": [
    {
     "name": "stdout",
     "output_type": "stream",
     "text": [
      "[141, 165, 116, 110, 118, 140, 81, 103, 99, 129, 128, 138, 100, 166, 191, 119, 207, 105, 68, 115, 58, 167, 293, 79, 222, 174, 113, 171, 83, 109, 94, 66, 31, 79, 93, 85, 72, 82, 179, 75, 58, 100, 136]\n"
     ]
    }
   ],
   "source": [
    "print([len(x) for x in nonrel_query_pools.values()])"
   ]
  },
  {
   "cell_type": "code",
   "execution_count": 15,
   "metadata": {},
   "outputs": [],
   "source": [
    "# count non rels by query\n",
    "nonrel_counts = nonrel_qrels.groupby('query_id').size()"
   ]
  },
  {
   "cell_type": "code",
   "execution_count": 16,
   "metadata": {},
   "outputs": [
    {
     "data": {
      "text/plain": [
       "293"
      ]
     },
     "execution_count": 16,
     "metadata": {},
     "output_type": "execute_result"
    }
   ],
   "source": [
    "nonrel_counts.max()"
   ]
  },
  {
   "cell_type": "code",
   "execution_count": 17,
   "metadata": {},
   "outputs": [
    {
     "data": {
      "text/plain": [
       "4102"
      ]
     },
     "execution_count": 17,
     "metadata": {},
     "output_type": "execute_result"
    }
   ],
   "source": [
    "len(filtered_qrels)"
   ]
  },
  {
   "cell_type": "code",
   "execution_count": 18,
   "metadata": {},
   "outputs": [],
   "source": [
    "# Initialize the document count for each annotator\n",
    "queries = {qid : len(filtered_qrels[filtered_qrels['query_id'] == qid]) for qid in filtered_qrels['query_id'].unique()}\n",
    "queries = {k: v for k, v in sorted(queries.items(), key=lambda item: item[1])}\n",
    "annotators = [i for i in range(NUM_ANNOTATORS)]\n",
    "annotator_load = {a: 0 for a in annotators}\n",
    "assignments = {a: [] for a in annotators}\n",
    "query_to_annotators = {q: [] for q, _ in queries.items()}\n",
    "\n",
    "# Step 1: Assign queries to the two annotators with the least load\n",
    "for query, num_docs in queries.items():\n",
    "    sorted_annotators = sorted(annotator_load, key=annotator_load.get)\n",
    "    annotator_1 = sorted_annotators[0]\n",
    "    annotator_2 = sorted_annotators[1]\n",
    "    \n",
    "    assignments[annotator_1].append(query)\n",
    "    assignments[annotator_2].append(query)\n",
    "    \n",
    "    query_to_annotators[query].extend([annotator_1, annotator_2])\n",
    "    \n",
    "    annotator_load[annotator_1] += num_docs\n",
    "    annotator_load[annotator_2] += num_docs\n",
    "\n",
    "# Step 2: Perform swaps to balance the load while ensuring each query is seen by two annotators\n",
    "def swap_queries(assignments, annotator_load, query_to_annotators, delta=100):\n",
    "    improved = True\n",
    "    \n",
    "    while improved:\n",
    "        improved = False\n",
    "        # Get the annotators with the maximum and minimum load\n",
    "        max_annotator = max(annotator_load, key=annotator_load.get)\n",
    "        min_annotator = min(annotator_load, key=annotator_load.get)\n",
    "        \n",
    "        max_load = annotator_load[max_annotator]\n",
    "        min_load = annotator_load[min_annotator]\n",
    "        \n",
    "        if max_load - min_load <= delta:\n",
    "            break\n",
    "        \n",
    "        # Try to find a query to swap\n",
    "        for query in assignments[max_annotator]:\n",
    "            query_docs = next(d for q, d in queries.items() if q == query)\n",
    "            \n",
    "            # Check if the query can be reassigned to the min_annotator\n",
    "            if (min_annotator not in query_to_annotators[query] and\n",
    "                len(query_to_annotators[query]) == 2):\n",
    "                \n",
    "                # Swap query from max_annotator to min_annotator\n",
    "                assignments[max_annotator].remove(query)\n",
    "                assignments[min_annotator].append(query)\n",
    "                \n",
    "                query_to_annotators[query].remove(max_annotator)\n",
    "                query_to_annotators[query].append(min_annotator)\n",
    "                \n",
    "                annotator_load[max_annotator] -= query_docs\n",
    "                annotator_load[min_annotator] += query_docs\n",
    "                \n",
    "                improved = True\n",
    "                break\n",
    "    \n",
    "    return assignments, annotator_load, query_to_annotators\n",
    "\n",
    "# Execute the balancing swap with the constraint\n",
    "assignments, annotator_load, query_to_annotators = swap_queries(assignments, annotator_load, query_to_annotators, 25)\n"
   ]
  },
  {
   "cell_type": "code",
   "execution_count": 19,
   "metadata": {},
   "outputs": [
    {
     "data": {
      "text/plain": [
       "{0: 1015, 1: 1015, 2: 1028, 3: 1028, 4: 1035, 5: 1035, 6: 1024, 7: 1024}"
      ]
     },
     "execution_count": 19,
     "metadata": {},
     "output_type": "execute_result"
    }
   ],
   "source": [
    "annotator_load"
   ]
  },
  {
   "cell_type": "code",
   "execution_count": 20,
   "metadata": {},
   "outputs": [
    {
     "name": "stdout",
     "output_type": "stream",
     "text": [
      "['855410', '146187', '130510', '1110199', '490595', '573724', '87452', '489204', '156493', '451602', '1133167', '1114646']\n",
      "['855410', '146187', '130510', '1110199', '490595', '573724', '87452', '489204', '156493', '451602', '1133167', '1114646']\n",
      "['1129237', '1121402', '359349', '527433', '87181', '148538', '1124210', '264014', '168216']\n",
      "['1129237', '1121402', '359349', '527433', '87181', '148538', '1124210', '264014', '168216']\n",
      "['833860', '915593', '47923', '104861', '183378', '1114819', '19335', '962179']\n",
      "['833860', '915593', '47923', '104861', '183378', '1114819', '19335', '962179']\n",
      "['405717', '182539', '131843', '1113437', '443396', '1117099', '1112341', '1063750', '1037798', '1115776', '1103812', '1121709', '207786', '1106007']\n",
      "['405717', '182539', '131843', '1113437', '443396', '1117099', '1112341', '1063750', '1037798', '1115776', '1103812', '1121709', '207786', '1106007']\n"
     ]
    }
   ],
   "source": [
    "assignments\n",
    "\n",
    "# check that the number of docs in assignments is equal to the number in annotator load\n",
    "\n",
    "for annotator, assigned in assignments.items():\n",
    "    print(assigned)\n",
    "    docs = sum([queries[query] for query in assigned])\n",
    "    assert docs == annotator_load[annotator]"
   ]
  },
  {
   "cell_type": "code",
   "execution_count": 21,
   "metadata": {},
   "outputs": [
    {
     "data": {
      "text/plain": [
       "2.0"
      ]
     },
     "execution_count": 21,
     "metadata": {},
     "output_type": "execute_result"
    }
   ],
   "source": [
    "sum([len(assigned) for assigned in query_to_annotators.values()]) / len(query_to_annotators)"
   ]
  },
  {
   "cell_type": "code",
   "execution_count": 24,
   "metadata": {},
   "outputs": [],
   "source": [
    "import random\n",
    "from collections import defaultdict\n",
    "\n",
    "def distribute_extra_annotations(assignments, query_pools, extra_annotations_per_annotator=100):\n",
    "    num_per_query = {query: len(docs) for query, docs in query_pools.items()}\n",
    "    # Initialize the structure for extra annotations\n",
    "    extra_assignments = {annotator: defaultdict(list) for annotator in assignments}\n",
    "    query_extra_annotations = {}  # Track extra annotations assigned to each query\n",
    "    \n",
    "    # Calculate the number of queries per annotator and distribute extra annotations\n",
    "    for annotator, queries in assignments.items():\n",
    "        num_queries = len(queries)\n",
    "        if num_queries == 0:\n",
    "            continue\n",
    "        \n",
    "        # Determine how many extra annotations per query\n",
    "        annotations_per_query = extra_annotations_per_annotator // num_queries\n",
    "        remaining_annotations = extra_annotations_per_annotator % num_queries\n",
    "\n",
    "        # if any query in group has too few docs to sampel annotations from, distribute to other queries \n",
    "\n",
    "\n",
    "        # Distribute annotations across the queries\n",
    "        for query in queries:\n",
    "            available_annotations = query_pools[query]\n",
    "\n",
    "            #if len(available_annotations) < annotations_per_query:\n",
    "                #remaining_annotations += annotations_per_query - len(available_annotations)\n",
    "                #current_annotations = len(available_annotations)\n",
    "            current_annotations = annotations_per_query\n",
    "            \n",
    "            if query not in query_extra_annotations:\n",
    "                # Randomly select annotations for this query\n",
    "                selected_annotations = random.sample(available_annotations, current_annotations)\n",
    "                query_extra_annotations[query] = selected_annotations\n",
    "\n",
    "            for annotation in selected_annotations:\n",
    "                if annotation not in query_pools[query]: continue\n",
    "                query_pools[query].remove(annotation)\n",
    "\n",
    "            \n",
    "                            \n",
    "            # Assign annotations to this annotator\n",
    "            if query not in extra_assignments[annotator]:\n",
    "                extra_assignments[annotator][query] = []\n",
    "                \n",
    "            # Add the annotations from query_extra_annotations\n",
    "            extra_assignments[annotator][query].extend(query_extra_annotations[query])\n",
    "        \n",
    "        # get largest num docs per query in current annotator and add remainder \n",
    "        max_docs = max([num_per_query[query] for query in queries])\n",
    "        query = max(num_per_query, key=num_per_query.get)\n",
    "        available_annotations = query_pools[query]\n",
    "        selected_annotations = random.sample(available_annotations, remaining_annotations)\n",
    "        extra_assignments[annotator][query].extend(selected_annotations)\n",
    "        \n",
    "    \n",
    "    \n",
    "    return extra_assignments"
   ]
  },
  {
   "cell_type": "code",
   "execution_count": 25,
   "metadata": {},
   "outputs": [
    {
     "name": "stdout",
     "output_type": "stream",
     "text": [
      "5210917\n",
      "6892350\n",
      "840666\n",
      "7238608\n",
      "2382274\n",
      "1041939\n",
      "3771667\n",
      "6734483\n",
      "2009634\n",
      "6748421\n",
      "1841195\n",
      "2857627\n",
      "7704674\n",
      "409930\n",
      "1841192\n",
      "744168\n",
      "2862522\n",
      "4528807\n",
      "7092536\n",
      "1963510\n",
      "6881821\n",
      "537152\n",
      "217594\n",
      "783665\n",
      "2241120\n",
      "5049362\n",
      "1063125\n",
      "879021\n",
      "167604\n",
      "7834869\n",
      "830201\n",
      "4994893\n",
      "7621284\n",
      "3572695\n",
      "7279006\n",
      "7045860\n",
      "2682556\n",
      "4096610\n",
      "7839904\n",
      "1160842\n",
      "7279080\n",
      "3644944\n",
      "7384325\n",
      "3059592\n",
      "5020265\n",
      "2635262\n",
      "7992474\n",
      "7166496\n",
      "8664378\n",
      "8819113\n",
      "8594768\n",
      "1952268\n",
      "3678676\n",
      "849575\n",
      "4541810\n",
      "945890\n",
      "417344\n",
      "1430557\n",
      "114148\n",
      "8737053\n",
      "139999\n",
      "7116533\n",
      "6542578\n",
      "8737050\n",
      "89620\n",
      "7768645\n",
      "6669867\n",
      "6139380\n",
      "6456916\n",
      "1171591\n",
      "1341656\n",
      "1583800\n",
      "7428019\n",
      "3177692\n",
      "8540470\n",
      "1836258\n",
      "2785223\n",
      "4487185\n",
      "2231421\n",
      "1640289\n",
      "6003837\n",
      "2478181\n",
      "1572514\n",
      "1789859\n",
      "2952791\n",
      "2789095\n",
      "761530\n",
      "6839771\n",
      "2296796\n",
      "3699874\n",
      "687066\n",
      "8117095\n",
      "810154\n",
      "3470484\n",
      "7616199\n",
      "1576677\n",
      "8766390\n"
     ]
    },
    {
     "ename": "ValueError",
     "evalue": "list.remove(x): x not in list",
     "output_type": "error",
     "traceback": [
      "\u001b[0;31m---------------------------------------------------------------------------\u001b[0m",
      "\u001b[0;31mValueError\u001b[0m                                Traceback (most recent call last)",
      "Cell \u001b[0;32mIn[25], line 1\u001b[0m\n\u001b[0;32m----> 1\u001b[0m extra_assignments \u001b[38;5;241m=\u001b[39m \u001b[43mdistribute_extra_annotations\u001b[49m\u001b[43m(\u001b[49m\u001b[43massignments\u001b[49m\u001b[43m,\u001b[49m\u001b[43m \u001b[49m\u001b[43mnonrel_query_pools\u001b[49m\u001b[43m)\u001b[49m\n",
      "Cell \u001b[0;32mIn[24], line 39\u001b[0m, in \u001b[0;36mdistribute_extra_annotations\u001b[0;34m(assignments, query_pools, extra_annotations_per_annotator)\u001b[0m\n\u001b[1;32m     37\u001b[0m \u001b[38;5;28;01mfor\u001b[39;00m annotation \u001b[38;5;129;01min\u001b[39;00m selected_annotations:\n\u001b[1;32m     38\u001b[0m     \u001b[38;5;28mprint\u001b[39m(annotation)\n\u001b[0;32m---> 39\u001b[0m     \u001b[43mquery_pools\u001b[49m\u001b[43m[\u001b[49m\u001b[43mquery\u001b[49m\u001b[43m]\u001b[49m\u001b[38;5;241;43m.\u001b[39;49m\u001b[43mremove\u001b[49m\u001b[43m(\u001b[49m\u001b[43mannotation\u001b[49m\u001b[43m)\u001b[49m\n\u001b[1;32m     43\u001b[0m \u001b[38;5;66;03m# Assign annotations to this annotator\u001b[39;00m\n\u001b[1;32m     44\u001b[0m \u001b[38;5;28;01mif\u001b[39;00m query \u001b[38;5;129;01mnot\u001b[39;00m \u001b[38;5;129;01min\u001b[39;00m extra_assignments[annotator]:\n",
      "\u001b[0;31mValueError\u001b[0m: list.remove(x): x not in list"
     ]
    }
   ],
   "source": [
    "extra_assignments = distribute_extra_annotations(assignments, nonrel_query_pools)"
   ]
  },
  {
   "cell_type": "code",
   "execution_count": null,
   "metadata": {},
   "outputs": [],
   "source": [
    "extra_assignments[0]"
   ]
  },
  {
   "cell_type": "code",
   "execution_count": null,
   "metadata": {},
   "outputs": [],
   "source": [
    "for annotator, extra in extra_assignments.items():\n",
    "    print(sum([len(docs) for docs in extra.values()]))"
   ]
  },
  {
   "cell_type": "code",
   "execution_count": null,
   "metadata": {},
   "outputs": [],
   "source": [
    "final = {\n",
    "    'annotator' : [],\n",
    "    'query_id' : [],\n",
    "    'doc_id' : [],\n",
    "}\n",
    "\n",
    "for annotator, queries in assignments.items():\n",
    "    for query in queries:\n",
    "        for doc in rel_query_pools[query]:\n",
    "            final['annotator'].append(annotator)\n",
    "            final['query_id'].append(query)\n",
    "            final['doc_id'].append(doc)\n",
    "    \n",
    "    for query in extra_assignments[annotator]:\n",
    "        if len(extra_assignments[annotator][query]) == 0:\n",
    "            print('No extra annotations for query', query)\n",
    "        for doc in extra_assignments[annotator][query]:\n",
    "            final['annotator'].append(annotator)\n",
    "            final['query_id'].append(query)\n",
    "            final['doc_id'].append(doc)"
   ]
  },
  {
   "cell_type": "code",
   "execution_count": null,
   "metadata": {},
   "outputs": [],
   "source": [
    "len(final['annotator'])"
   ]
  },
  {
   "cell_type": "code",
   "execution_count": null,
   "metadata": {},
   "outputs": [],
   "source": [
    "final_frame = pd.DataFrame(final)"
   ]
  },
  {
   "cell_type": "code",
   "execution_count": null,
   "metadata": {},
   "outputs": [],
   "source": [
    "final_frame.annotator.value_counts()"
   ]
  },
  {
   "cell_type": "code",
   "execution_count": null,
   "metadata": {},
   "outputs": [],
   "source": [
    "final_frame.to_json('annotated_qrels.jsonl', orient='records', lines=True)"
   ]
  },
  {
   "cell_type": "markdown",
   "metadata": {},
   "source": [
    "# Assign and dump to files"
   ]
  },
  {
   "cell_type": "code",
   "execution_count": null,
   "metadata": {},
   "outputs": [],
   "source": [
    "import ir_datasets as irds"
   ]
  },
  {
   "cell_type": "code",
   "execution_count": null,
   "metadata": {},
   "outputs": [],
   "source": [
    "dl19 = irds.load(\"msmarco-passage/trec-dl-2019/judged\")"
   ]
  },
  {
   "cell_type": "code",
   "execution_count": null,
   "metadata": {},
   "outputs": [],
   "source": [
    "docs = pd.DataFrame(dl19.docs_iter()).set_index('doc_id').text.to_dict()\n",
    "queries = pd.DataFrame(dl19.queries_iter()).set_index('query_id').text.to_dict()"
   ]
  },
  {
   "cell_type": "code",
   "execution_count": null,
   "metadata": {},
   "outputs": [],
   "source": [
    "final_frame['text'] = final_frame.doc_id.map(docs)\n",
    "final_frame['query'] = final_frame.query_id.map(queries)\n",
    "final_frame['id'] = final_frame.apply(lambda x : id_lookup[x.query_id][x.doc_id], axis=1)"
   ]
  },
  {
   "cell_type": "code",
   "execution_count": null,
   "metadata": {},
   "outputs": [],
   "source": [
    "final_frame"
   ]
  },
  {
   "cell_type": "code",
   "execution_count": null,
   "metadata": {},
   "outputs": [],
   "source": [
    "assignees = ['andrew-parry', 'eugene-yang', 'ferdinand-schlatt', 'froebe', 'guglielmo-faggioli', 'harry-scells', 'saber-zerhoudi', 'sean-macavaney']"
   ]
  },
  {
   "cell_type": "code",
   "execution_count": null,
   "metadata": {},
   "outputs": [],
   "source": [
    "for id, group in final_frame.groupby('annotator'):\n",
    "    assign = assignees[id]\n",
    "    out = group.copy().drop(columns='annotator')\n",
    "    out['comments'] = [[] for _ in range(len(out))]\n",
    "    out['label'] = [[] for _ in range(len(out))]\n",
    "    out.to_json(f'{assign}.jsonl', orient='records', lines=True)\n",
    "    "
   ]
  }
 ],
 "metadata": {
  "kernelspec": {
   "display_name": "Python 3 (ipykernel)",
   "language": "python",
   "name": "python3"
  },
  "language_info": {
   "codemirror_mode": {
    "name": "ipython",
    "version": 3
   },
   "file_extension": ".py",
   "mimetype": "text/x-python",
   "name": "python",
   "nbconvert_exporter": "python",
   "pygments_lexer": "ipython3",
   "version": "3.10.13"
  }
 },
 "nbformat": 4,
 "nbformat_minor": 4
}
