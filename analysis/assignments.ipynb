{
 "cells": [
  {
   "cell_type": "code",
   "execution_count": 1,
   "metadata": {},
   "outputs": [
    {
     "name": "stderr",
     "output_type": "stream",
     "text": [
      "PyTerrier 0.10.0 has loaded Terrier 5.9 (built by craigm on 2024-05-02 17:40) and terrier-helper 0.0.8\n",
      "\n",
      "No etc/terrier.properties, using terrier.default.properties for bootstrap configuration.\n"
     ]
    }
   ],
   "source": [
    "import os\n",
    "import pyterrier as pt\n",
    "if not pt.started():\n",
    "    pt.init()\n",
    "import ir_datasets as irds\n",
    "import pandas as pd\n",
    "from ir_measures import *\n",
    "from ir_measures import evaluator\n",
    "from collections import defaultdict"
   ]
  },
  {
   "cell_type": "code",
   "execution_count": 2,
   "metadata": {},
   "outputs": [],
   "source": [
    "DATASET = \"msmarco-passage/trec-dl-2019/judged\"\n",
    "RUN_DIR = '/home/andrew/Documents/Code/Annotation/runs/trec-dl-2019'"
   ]
  },
  {
   "cell_type": "code",
   "execution_count": 3,
   "metadata": {},
   "outputs": [],
   "source": [
    "dataset = irds.load(DATASET)\n",
    "original_qrels = pd.DataFrame(dataset.qrels_iter())"
   ]
  },
  {
   "cell_type": "markdown",
   "metadata": {},
   "source": [
    "## QREL CHECKS"
   ]
  },
  {
   "cell_type": "code",
   "execution_count": 4,
   "metadata": {},
   "outputs": [],
   "source": [
    "values = original_qrels.relevance.value_counts()"
   ]
  },
  {
   "cell_type": "code",
   "execution_count": 5,
   "metadata": {},
   "outputs": [],
   "source": [
    "original_qrels['id'] = [i for i in range(len(original_qrels))]"
   ]
  },
  {
   "cell_type": "code",
   "execution_count": 6,
   "metadata": {},
   "outputs": [],
   "source": [
    "id_lookup = defaultdict(dict)\n",
    "\n",
    "for row in original_qrels.itertuples():\n",
    "    id_lookup[row.query_id][row.doc_id] = row.id"
   ]
  },
  {
   "cell_type": "code",
   "execution_count": 7,
   "metadata": {},
   "outputs": [
    {
     "data": {
      "text/plain": [
       "9260"
      ]
     },
     "execution_count": 7,
     "metadata": {},
     "output_type": "execute_result"
    }
   ],
   "source": [
    "len(original_qrels) # total number of judgements"
   ]
  },
  {
   "cell_type": "code",
   "execution_count": 8,
   "metadata": {},
   "outputs": [
    {
     "data": {
      "text/plain": [
       "55.70194384449244"
      ]
     },
     "execution_count": 8,
     "metadata": {},
     "output_type": "execute_result"
    }
   ],
   "source": [
    "values[0] / (values[0] + values[1] + values[2] + values[3]) * 100 # percentage of non-relevant judgements"
   ]
  },
  {
   "cell_type": "code",
   "execution_count": 9,
   "metadata": {},
   "outputs": [
    {
     "data": {
      "text/plain": [
       "72.9913606911447"
      ]
     },
     "execution_count": 9,
     "metadata": {},
     "output_type": "execute_result"
    }
   ],
   "source": [
    "(values[0] + values[1]) / (values[0] + values[1] + values[2] + values[3]) * 100 # percentage of non-relevant and partially relevant judgements"
   ]
  },
  {
   "cell_type": "markdown",
   "metadata": {},
   "source": [
    "## Distribution Stats"
   ]
  },
  {
   "cell_type": "code",
   "execution_count": 10,
   "metadata": {},
   "outputs": [],
   "source": [
    "NUM_ANNOTATORS = 8"
   ]
  },
  {
   "cell_type": "code",
   "execution_count": 11,
   "metadata": {},
   "outputs": [],
   "source": [
    "filtered_qrels = original_qrels[original_qrels.relevance != 0]\n",
    "nonrel_qrels = original_qrels[original_qrels.relevance == 0]"
   ]
  },
  {
   "cell_type": "code",
   "execution_count": 12,
   "metadata": {},
   "outputs": [
    {
     "data": {
      "text/plain": [
       "query_id\n",
       "168216     293\n",
       "183378     222\n",
       "1133167    207\n",
       "1124210    191\n",
       "855410     179\n",
       "19335      174\n",
       "264014     171\n",
       "156493     167\n",
       "1121709    166\n",
       "104861     165\n",
       "1037798    141\n",
       "1110199    140\n",
       "1117099    138\n",
       "962179     136\n",
       "1114819    129\n",
       "1115776    128\n",
       "1129237    119\n",
       "1106007    118\n",
       "1063750    116\n",
       "146187     115\n",
       "207786     113\n",
       "1103812    110\n",
       "405717     109\n",
       "130510     105\n",
       "1113437    103\n",
       "1121402    100\n",
       "915593     100\n",
       "1114646     99\n",
       "443396      94\n",
       "490595      93\n",
       "527433      85\n",
       "359349      83\n",
       "833860      82\n",
       "1112341     81\n",
       "489204      79\n",
       "182539      79\n",
       "87181       75\n",
       "573724      72\n",
       "131843      68\n",
       "451602      66\n",
       "148538      58\n",
       "87452       58\n",
       "47923       31\n",
       "Name: count, dtype: int64"
      ]
     },
     "execution_count": 12,
     "metadata": {},
     "output_type": "execute_result"
    }
   ],
   "source": [
    "# query_ids value counts nonrel_qrels\n",
    "nonrel_qrels.query_id.value_counts()"
   ]
  },
  {
   "cell_type": "code",
   "execution_count": 13,
   "metadata": {},
   "outputs": [],
   "source": [
    "rel_query_pools = filtered_qrels.groupby('query_id').doc_id.apply(list).to_dict()\n",
    "nonrel_query_pools = nonrel_qrels.groupby('query_id').doc_id.apply(list).to_dict()"
   ]
  },
  {
   "cell_type": "code",
   "execution_count": 14,
   "metadata": {},
   "outputs": [
    {
     "name": "stdout",
     "output_type": "stream",
     "text": [
      "[141, 165, 116, 110, 118, 140, 81, 103, 99, 129, 128, 138, 100, 166, 191, 119, 207, 105, 68, 115, 58, 167, 293, 79, 222, 174, 113, 171, 83, 109, 94, 66, 31, 79, 93, 85, 72, 82, 179, 75, 58, 100, 136]\n"
     ]
    }
   ],
   "source": [
    "print([len(x) for x in nonrel_query_pools.values()])"
   ]
  },
  {
   "cell_type": "code",
   "execution_count": 15,
   "metadata": {},
   "outputs": [],
   "source": [
    "# count non rels by query\n",
    "nonrel_counts = nonrel_qrels.groupby('query_id').size()"
   ]
  },
  {
   "cell_type": "code",
   "execution_count": 16,
   "metadata": {},
   "outputs": [
    {
     "data": {
      "text/plain": [
       "293"
      ]
     },
     "execution_count": 16,
     "metadata": {},
     "output_type": "execute_result"
    }
   ],
   "source": [
    "nonrel_counts.max()"
   ]
  },
  {
   "cell_type": "code",
   "execution_count": 17,
   "metadata": {},
   "outputs": [
    {
     "data": {
      "text/plain": [
       "4102"
      ]
     },
     "execution_count": 17,
     "metadata": {},
     "output_type": "execute_result"
    }
   ],
   "source": [
    "len(filtered_qrels)"
   ]
  },
  {
   "cell_type": "code",
   "execution_count": 18,
   "metadata": {},
   "outputs": [],
   "source": [
    "# Initialize the document count for each annotator\n",
    "queries = {qid : len(filtered_qrels[filtered_qrels['query_id'] == qid]) for qid in filtered_qrels['query_id'].unique()}\n",
    "queries = {k: v for k, v in sorted(queries.items(), key=lambda item: item[1])}\n",
    "annotators = [i for i in range(NUM_ANNOTATORS)]\n",
    "annotator_load = {a: 0 for a in annotators}\n",
    "assignments = {a: [] for a in annotators}\n",
    "query_to_annotators = {q: [] for q, _ in queries.items()}\n",
    "\n",
    "# Step 1: Assign queries to the two annotators with the least load\n",
    "for query, num_docs in queries.items():\n",
    "    sorted_annotators = sorted(annotator_load, key=annotator_load.get)\n",
    "    annotator_1 = sorted_annotators[0]\n",
    "    annotator_2 = sorted_annotators[1]\n",
    "    \n",
    "    assignments[annotator_1].append(query)\n",
    "    assignments[annotator_2].append(query)\n",
    "    \n",
    "    query_to_annotators[query].extend([annotator_1, annotator_2])\n",
    "    \n",
    "    annotator_load[annotator_1] += num_docs\n",
    "    annotator_load[annotator_2] += num_docs\n",
    "\n",
    "# Step 2: Perform swaps to balance the load while ensuring each query is seen by two annotators\n",
    "def swap_queries(assignments, annotator_load, query_to_annotators, delta=100):\n",
    "    improved = True\n",
    "    \n",
    "    while improved:\n",
    "        improved = False\n",
    "        # Get the annotators with the maximum and minimum load\n",
    "        max_annotator = max(annotator_load, key=annotator_load.get)\n",
    "        min_annotator = min(annotator_load, key=annotator_load.get)\n",
    "        \n",
    "        max_load = annotator_load[max_annotator]\n",
    "        min_load = annotator_load[min_annotator]\n",
    "        \n",
    "        if max_load - min_load <= delta:\n",
    "            break\n",
    "        \n",
    "        # Try to find a query to swap\n",
    "        for query in assignments[max_annotator]:\n",
    "            query_docs = next(d for q, d in queries.items() if q == query)\n",
    "            \n",
    "            # Check if the query can be reassigned to the min_annotator\n",
    "            if (min_annotator not in query_to_annotators[query] and\n",
    "                len(query_to_annotators[query]) == 2):\n",
    "                \n",
    "                # Swap query from max_annotator to min_annotator\n",
    "                assignments[max_annotator].remove(query)\n",
    "                assignments[min_annotator].append(query)\n",
    "                \n",
    "                query_to_annotators[query].remove(max_annotator)\n",
    "                query_to_annotators[query].append(min_annotator)\n",
    "                \n",
    "                annotator_load[max_annotator] -= query_docs\n",
    "                annotator_load[min_annotator] += query_docs\n",
    "                \n",
    "                improved = True\n",
    "                break\n",
    "    \n",
    "    return assignments, annotator_load, query_to_annotators\n",
    "\n",
    "# Execute the balancing swap with the constraint\n",
    "assignments, annotator_load, query_to_annotators = swap_queries(assignments, annotator_load, query_to_annotators, 25)\n"
   ]
  },
  {
   "cell_type": "code",
   "execution_count": 19,
   "metadata": {},
   "outputs": [
    {
     "data": {
      "text/plain": [
       "{0: 1015, 1: 1015, 2: 1028, 3: 1028, 4: 1035, 5: 1035, 6: 1024, 7: 1024}"
      ]
     },
     "execution_count": 19,
     "metadata": {},
     "output_type": "execute_result"
    }
   ],
   "source": [
    "annotator_load"
   ]
  },
  {
   "cell_type": "code",
   "execution_count": 20,
   "metadata": {},
   "outputs": [
    {
     "name": "stdout",
     "output_type": "stream",
     "text": [
      "['855410', '146187', '130510', '1110199', '490595', '573724', '87452', '489204', '156493', '451602', '1133167', '1114646']\n",
      "['855410', '146187', '130510', '1110199', '490595', '573724', '87452', '489204', '156493', '451602', '1133167', '1114646']\n",
      "['1129237', '1121402', '359349', '527433', '87181', '148538', '1124210', '264014', '168216']\n",
      "['1129237', '1121402', '359349', '527433', '87181', '148538', '1124210', '264014', '168216']\n",
      "['833860', '915593', '47923', '104861', '183378', '1114819', '19335', '962179']\n",
      "['833860', '915593', '47923', '104861', '183378', '1114819', '19335', '962179']\n",
      "['405717', '182539', '131843', '1113437', '443396', '1117099', '1112341', '1063750', '1037798', '1115776', '1103812', '1121709', '207786', '1106007']\n",
      "['405717', '182539', '131843', '1113437', '443396', '1117099', '1112341', '1063750', '1037798', '1115776', '1103812', '1121709', '207786', '1106007']\n"
     ]
    }
   ],
   "source": [
    "assignments\n",
    "\n",
    "# check that the number of docs in assignments is equal to the number in annotator load\n",
    "\n",
    "for annotator, assigned in assignments.items():\n",
    "    print(assigned)\n",
    "    docs = sum([queries[query] for query in assigned])\n",
    "    assert docs == annotator_load[annotator]"
   ]
  },
  {
   "cell_type": "code",
   "execution_count": 21,
   "metadata": {},
   "outputs": [
    {
     "data": {
      "text/plain": [
       "2.0"
      ]
     },
     "execution_count": 21,
     "metadata": {},
     "output_type": "execute_result"
    }
   ],
   "source": [
    "sum([len(assigned) for assigned in query_to_annotators.values()]) / len(query_to_annotators)"
   ]
  },
  {
   "cell_type": "code",
   "execution_count": 22,
   "metadata": {},
   "outputs": [],
   "source": [
    "import random\n",
    "from collections import defaultdict\n",
    "\n",
    "def distribute_extra_annotations(assignments, query_pools, extra_annotations_per_annotator=100):\n",
    "    num_per_query = {query: len(docs) for query, docs in query_pools.items()}\n",
    "    # Initialize the structure for extra annotations\n",
    "    extra_assignments = {annotator: defaultdict(list) for annotator in assignments}\n",
    "    query_extra_annotations = {}  # Track extra annotations assigned to each query\n",
    "    \n",
    "    # Calculate the number of queries per annotator and distribute extra annotations\n",
    "    for annotator, queries in assignments.items():\n",
    "        num_queries = len(queries)\n",
    "        if num_queries == 0:\n",
    "            continue\n",
    "        \n",
    "        # Determine how many extra annotations per query\n",
    "        annotations_per_query = extra_annotations_per_annotator // num_queries\n",
    "        remaining_annotations = extra_annotations_per_annotator % num_queries\n",
    "\n",
    "        # if any query in group has too few docs to sampel annotations from, distribute to other queries \n",
    "\n",
    "\n",
    "        # Distribute annotations across the queries\n",
    "        for query in queries:\n",
    "            available_annotations = query_pools[query]\n",
    "\n",
    "            #if len(available_annotations) < annotations_per_query:\n",
    "                #remaining_annotations += annotations_per_query - len(available_annotations)\n",
    "                #current_annotations = len(available_annotations)\n",
    "            current_annotations = annotations_per_query\n",
    "            \n",
    "            if query not in query_extra_annotations:\n",
    "                # Randomly select annotations for this query\n",
    "                selected_annotations = random.sample(available_annotations, current_annotations)\n",
    "                query_extra_annotations[query] = selected_annotations\n",
    "\n",
    "            for annotation in selected_annotations:\n",
    "                if annotation not in query_pools[query]: continue\n",
    "                query_pools[query].remove(annotation)\n",
    "                            \n",
    "            # Assign annotations to this annotator\n",
    "            if query not in extra_assignments[annotator]:\n",
    "                extra_assignments[annotator][query] = []\n",
    "                \n",
    "            # Add the annotations from query_extra_annotations\n",
    "            extra_assignments[annotator][query].extend(query_extra_annotations[query])\n",
    "        \n",
    "        # get largest num docs per query in current annotator and add remainder \n",
    "        max_docs = max([num_per_query[query] for query in queries])\n",
    "        query = max(num_per_query, key=num_per_query.get)\n",
    "        available_annotations = query_pools[query]\n",
    "        selected_annotations = random.sample(available_annotations, remaining_annotations)\n",
    "        extra_assignments[annotator][query].extend(selected_annotations)\n",
    "        \n",
    "    \n",
    "    \n",
    "    return extra_assignments"
   ]
  },
  {
   "cell_type": "code",
   "execution_count": 23,
   "metadata": {},
   "outputs": [],
   "source": [
    "extra_assignments = distribute_extra_annotations(assignments, nonrel_query_pools)"
   ]
  },
  {
   "cell_type": "code",
   "execution_count": 24,
   "metadata": {},
   "outputs": [
    {
     "data": {
      "text/plain": [
       "defaultdict(list,\n",
       "            {'855410': ['7128710',\n",
       "              '2269747',\n",
       "              '7164602',\n",
       "              '2531289',\n",
       "              '6734483',\n",
       "              '7972228',\n",
       "              '181258',\n",
       "              '6441075'],\n",
       "             '146187': ['1944092',\n",
       "              '8544933',\n",
       "              '6658185',\n",
       "              '1254157',\n",
       "              '8795494',\n",
       "              '3354935',\n",
       "              '7019602',\n",
       "              '1246346'],\n",
       "             '130510': ['8612908',\n",
       "              '5731519',\n",
       "              '8287352',\n",
       "              '5914270',\n",
       "              '6862766',\n",
       "              '3913778',\n",
       "              '7079881',\n",
       "              '7098470'],\n",
       "             '1110199': ['6548514',\n",
       "              '8478604',\n",
       "              '1063125',\n",
       "              '2218462',\n",
       "              '5846443',\n",
       "              '2655849',\n",
       "              '7675377',\n",
       "              '6392463'],\n",
       "             '490595': ['48492',\n",
       "              '7698193',\n",
       "              '2061700',\n",
       "              '7621284',\n",
       "              '1845423',\n",
       "              '7704029',\n",
       "              '1288940',\n",
       "              '7072535'],\n",
       "             '573724': ['7384331',\n",
       "              '6084690',\n",
       "              '3644944',\n",
       "              '7166496',\n",
       "              '7474210',\n",
       "              '7392294',\n",
       "              '7498096',\n",
       "              '7709475'],\n",
       "             '87452': ['8594768',\n",
       "              '5338945',\n",
       "              '1539432',\n",
       "              '5746166',\n",
       "              '8152227',\n",
       "              '4349224',\n",
       "              '8664378',\n",
       "              '8436577'],\n",
       "             '489204': ['139999',\n",
       "              '385083',\n",
       "              '5695163',\n",
       "              '1739317',\n",
       "              '6542578',\n",
       "              '1950269',\n",
       "              '1538587',\n",
       "              '4918005'],\n",
       "             '156493': ['3732381',\n",
       "              '1172283',\n",
       "              '6464089',\n",
       "              '1171591',\n",
       "              '1960253',\n",
       "              '4264246',\n",
       "              '4623709',\n",
       "              '4940231'],\n",
       "             '451602': ['949152',\n",
       "              '3090672',\n",
       "              '3877256',\n",
       "              '2785223',\n",
       "              '8456061',\n",
       "              '7510020',\n",
       "              '1640289',\n",
       "              '3234481'],\n",
       "             '1133167': ['4742235',\n",
       "              '5186167',\n",
       "              '944810',\n",
       "              '2991270',\n",
       "              '2478183',\n",
       "              '7734299',\n",
       "              '7115353',\n",
       "              '8332521'],\n",
       "             '1114646': ['1881845',\n",
       "              '5418860',\n",
       "              '3238905',\n",
       "              '6836905',\n",
       "              '4487204',\n",
       "              '2911040',\n",
       "              '2246765',\n",
       "              '3915244'],\n",
       "             '168216': ['3906528', '6282566', '8820895', '3730141']})"
      ]
     },
     "execution_count": 24,
     "metadata": {},
     "output_type": "execute_result"
    }
   ],
   "source": [
    "extra_assignments[0]"
   ]
  },
  {
   "cell_type": "code",
   "execution_count": 25,
   "metadata": {},
   "outputs": [
    {
     "name": "stdout",
     "output_type": "stream",
     "text": [
      "100\n",
      "100\n",
      "100\n",
      "100\n",
      "100\n",
      "100\n",
      "100\n",
      "100\n"
     ]
    }
   ],
   "source": [
    "for annotator, extra in extra_assignments.items():\n",
    "    print(sum([len(docs) for docs in extra.values()]))"
   ]
  },
  {
   "cell_type": "code",
   "execution_count": 26,
   "metadata": {},
   "outputs": [],
   "source": [
    "final = {\n",
    "    'annotator' : [],\n",
    "    'query_id' : [],\n",
    "    'doc_id' : [],\n",
    "}\n",
    "\n",
    "for annotator, queries in assignments.items():\n",
    "    for query in queries:\n",
    "        for doc in rel_query_pools[query]:\n",
    "            final['annotator'].append(annotator)\n",
    "            final['query_id'].append(query)\n",
    "            final['doc_id'].append(doc)\n",
    "    \n",
    "    for query in extra_assignments[annotator]:\n",
    "        if len(extra_assignments[annotator][query]) == 0:\n",
    "            print('No extra annotations for query', query)\n",
    "        for doc in extra_assignments[annotator][query]:\n",
    "            final['annotator'].append(annotator)\n",
    "            final['query_id'].append(query)\n",
    "            final['doc_id'].append(doc)"
   ]
  },
  {
   "cell_type": "code",
   "execution_count": 27,
   "metadata": {},
   "outputs": [
    {
     "data": {
      "text/plain": [
       "9004"
      ]
     },
     "execution_count": 27,
     "metadata": {},
     "output_type": "execute_result"
    }
   ],
   "source": [
    "len(final['annotator'])"
   ]
  },
  {
   "cell_type": "code",
   "execution_count": 28,
   "metadata": {},
   "outputs": [],
   "source": [
    "final_frame = pd.DataFrame(final)"
   ]
  },
  {
   "cell_type": "code",
   "execution_count": 29,
   "metadata": {},
   "outputs": [
    {
     "data": {
      "text/plain": [
       "annotator\n",
       "4    1135\n",
       "5    1135\n",
       "2    1128\n",
       "3    1128\n",
       "6    1124\n",
       "7    1124\n",
       "0    1115\n",
       "1    1115\n",
       "Name: count, dtype: int64"
      ]
     },
     "execution_count": 29,
     "metadata": {},
     "output_type": "execute_result"
    }
   ],
   "source": [
    "final_frame.annotator.value_counts()"
   ]
  },
  {
   "cell_type": "code",
   "execution_count": 30,
   "metadata": {},
   "outputs": [],
   "source": [
    "final_frame.to_json('annotated_qrels.jsonl', orient='records', lines=True)"
   ]
  },
  {
   "cell_type": "markdown",
   "metadata": {},
   "source": [
    "# Assign and dump to files"
   ]
  },
  {
   "cell_type": "code",
   "execution_count": 31,
   "metadata": {},
   "outputs": [],
   "source": [
    "import ir_datasets as irds"
   ]
  },
  {
   "cell_type": "code",
   "execution_count": 32,
   "metadata": {},
   "outputs": [],
   "source": [
    "dl19 = irds.load(\"msmarco-passage/trec-dl-2019/judged\")"
   ]
  },
  {
   "cell_type": "code",
   "execution_count": 33,
   "metadata": {},
   "outputs": [],
   "source": [
    "docs = pd.DataFrame(dl19.docs_iter()).set_index('doc_id').text.to_dict()\n",
    "queries = pd.DataFrame(dl19.queries_iter()).set_index('query_id').text.to_dict()"
   ]
  },
  {
   "cell_type": "code",
   "execution_count": 34,
   "metadata": {},
   "outputs": [],
   "source": [
    "final_frame['text'] = final_frame.doc_id.map(docs)\n",
    "final_frame['query'] = final_frame.query_id.map(queries)\n",
    "final_frame['id'] = final_frame.apply(lambda x : id_lookup[x.query_id][x.doc_id], axis=1)"
   ]
  },
  {
   "cell_type": "code",
   "execution_count": 35,
   "metadata": {},
   "outputs": [
    {
     "data": {
      "text/html": [
       "<div>\n",
       "<style scoped>\n",
       "    .dataframe tbody tr th:only-of-type {\n",
       "        vertical-align: middle;\n",
       "    }\n",
       "\n",
       "    .dataframe tbody tr th {\n",
       "        vertical-align: top;\n",
       "    }\n",
       "\n",
       "    .dataframe thead th {\n",
       "        text-align: right;\n",
       "    }\n",
       "</style>\n",
       "<table border=\"1\" class=\"dataframe\">\n",
       "  <thead>\n",
       "    <tr style=\"text-align: right;\">\n",
       "      <th></th>\n",
       "      <th>annotator</th>\n",
       "      <th>query_id</th>\n",
       "      <th>doc_id</th>\n",
       "      <th>text</th>\n",
       "      <th>query</th>\n",
       "      <th>id</th>\n",
       "    </tr>\n",
       "  </thead>\n",
       "  <tbody>\n",
       "    <tr>\n",
       "      <th>0</th>\n",
       "      <td>0</td>\n",
       "      <td>855410</td>\n",
       "      <td>8651770</td>\n",
       "      <td>Theraderm is a manufacturer of clinical-grade ...</td>\n",
       "      <td>what is theraderm used for</td>\n",
       "      <td>5128</td>\n",
       "    </tr>\n",
       "    <tr>\n",
       "      <th>1</th>\n",
       "      <td>0</td>\n",
       "      <td>855410</td>\n",
       "      <td>8651771</td>\n",
       "      <td>The main ingredient in this Theraderm cream is...</td>\n",
       "      <td>what is theraderm used for</td>\n",
       "      <td>5129</td>\n",
       "    </tr>\n",
       "    <tr>\n",
       "      <th>2</th>\n",
       "      <td>0</td>\n",
       "      <td>855410</td>\n",
       "      <td>8651772</td>\n",
       "      <td>Nowadays there are many skin care brands, like...</td>\n",
       "      <td>what is theraderm used for</td>\n",
       "      <td>5130</td>\n",
       "    </tr>\n",
       "    <tr>\n",
       "      <th>3</th>\n",
       "      <td>0</td>\n",
       "      <td>855410</td>\n",
       "      <td>8651775</td>\n",
       "      <td>Theraderm Skin Renewal System. Theraderm Skin ...</td>\n",
       "      <td>what is theraderm used for</td>\n",
       "      <td>5131</td>\n",
       "    </tr>\n",
       "    <tr>\n",
       "      <th>4</th>\n",
       "      <td>0</td>\n",
       "      <td>146187</td>\n",
       "      <td>1230566</td>\n",
       "      <td>There are 280 calories in a 1 burger serving o...</td>\n",
       "      <td>difference between a mcdouble and a double che...</td>\n",
       "      <td>1209</td>\n",
       "    </tr>\n",
       "    <tr>\n",
       "      <th>...</th>\n",
       "      <td>...</td>\n",
       "      <td>...</td>\n",
       "      <td>...</td>\n",
       "      <td>...</td>\n",
       "      <td>...</td>\n",
       "      <td>...</td>\n",
       "    </tr>\n",
       "    <tr>\n",
       "      <th>8999</th>\n",
       "      <td>7</td>\n",
       "      <td>1106007</td>\n",
       "      <td>2188708</td>\n",
       "      <td>Your dog comes over to console you and being a...</td>\n",
       "      <td>define visceral?</td>\n",
       "      <td>6214</td>\n",
       "    </tr>\n",
       "    <tr>\n",
       "      <th>9000</th>\n",
       "      <td>7</td>\n",
       "      <td>1106007</td>\n",
       "      <td>1646610</td>\n",
       "      <td>There are three types of muscle tissue: Viscer...</td>\n",
       "      <td>define visceral?</td>\n",
       "      <td>6199</td>\n",
       "    </tr>\n",
       "    <tr>\n",
       "      <th>9001</th>\n",
       "      <td>7</td>\n",
       "      <td>1106007</td>\n",
       "      <td>817030</td>\n",
       "      <td>In general, mollusks have 3 body regions: a he...</td>\n",
       "      <td>define visceral?</td>\n",
       "      <td>6330</td>\n",
       "    </tr>\n",
       "    <tr>\n",
       "      <th>9002</th>\n",
       "      <td>7</td>\n",
       "      <td>168216</td>\n",
       "      <td>8494353</td>\n",
       "      <td>Genetics of Helicobacter pylori bacteria: Heli...</td>\n",
       "      <td>does legionella pneumophila cause pneumonia</td>\n",
       "      <td>2352</td>\n",
       "    </tr>\n",
       "    <tr>\n",
       "      <th>9003</th>\n",
       "      <td>7</td>\n",
       "      <td>168216</td>\n",
       "      <td>6223989</td>\n",
       "      <td>Mycoplasma pneumoniae is a common cause of com...</td>\n",
       "      <td>does legionella pneumophila cause pneumonia</td>\n",
       "      <td>2178</td>\n",
       "    </tr>\n",
       "  </tbody>\n",
       "</table>\n",
       "<p>9004 rows × 6 columns</p>\n",
       "</div>"
      ],
      "text/plain": [
       "      annotator query_id   doc_id  \\\n",
       "0             0   855410  8651770   \n",
       "1             0   855410  8651771   \n",
       "2             0   855410  8651772   \n",
       "3             0   855410  8651775   \n",
       "4             0   146187  1230566   \n",
       "...         ...      ...      ...   \n",
       "8999          7  1106007  2188708   \n",
       "9000          7  1106007  1646610   \n",
       "9001          7  1106007   817030   \n",
       "9002          7   168216  8494353   \n",
       "9003          7   168216  6223989   \n",
       "\n",
       "                                                   text  \\\n",
       "0     Theraderm is a manufacturer of clinical-grade ...   \n",
       "1     The main ingredient in this Theraderm cream is...   \n",
       "2     Nowadays there are many skin care brands, like...   \n",
       "3     Theraderm Skin Renewal System. Theraderm Skin ...   \n",
       "4     There are 280 calories in a 1 burger serving o...   \n",
       "...                                                 ...   \n",
       "8999  Your dog comes over to console you and being a...   \n",
       "9000  There are three types of muscle tissue: Viscer...   \n",
       "9001  In general, mollusks have 3 body regions: a he...   \n",
       "9002  Genetics of Helicobacter pylori bacteria: Heli...   \n",
       "9003  Mycoplasma pneumoniae is a common cause of com...   \n",
       "\n",
       "                                                  query    id  \n",
       "0                            what is theraderm used for  5128  \n",
       "1                            what is theraderm used for  5129  \n",
       "2                            what is theraderm used for  5130  \n",
       "3                            what is theraderm used for  5131  \n",
       "4     difference between a mcdouble and a double che...  1209  \n",
       "...                                                 ...   ...  \n",
       "8999                                   define visceral?  6214  \n",
       "9000                                   define visceral?  6199  \n",
       "9001                                   define visceral?  6330  \n",
       "9002        does legionella pneumophila cause pneumonia  2352  \n",
       "9003        does legionella pneumophila cause pneumonia  2178  \n",
       "\n",
       "[9004 rows x 6 columns]"
      ]
     },
     "execution_count": 35,
     "metadata": {},
     "output_type": "execute_result"
    }
   ],
   "source": [
    "final_frame"
   ]
  },
  {
   "cell_type": "code",
   "execution_count": 36,
   "metadata": {},
   "outputs": [],
   "source": [
    "assignees = ['andrew-parry', 'eugene-yang', 'ferdinand-schlatt', 'froebe', 'guglielmo-faggioli', 'harry-scells', 'saber-zerhoudi', 'sean-macavaney']"
   ]
  },
  {
   "cell_type": "code",
   "execution_count": 37,
   "metadata": {},
   "outputs": [],
   "source": [
    "for id, group in final_frame.groupby('annotator'):\n",
    "    assign = assignees[id]\n",
    "    out = group.copy().drop(columns='annotator')\n",
    "    out['comments'] = [[] for _ in range(len(out))]\n",
    "    out['label'] = [[] for _ in range(len(out))]\n",
    "    out.to_json(f'{assign}.jsonl', orient='records', lines=True)\n",
    "    "
   ]
  },
  {
   "cell_type": "code",
   "execution_count": 38,
   "metadata": {},
   "outputs": [
    {
     "name": "stdout",
     "output_type": "stream",
     "text": [
      "All query-document pairs are assigned correctly.\n"
     ]
    },
    {
     "data": {
      "text/plain": [
       "True"
      ]
     },
     "execution_count": 38,
     "metadata": {},
     "output_type": "execute_result"
    }
   ],
   "source": [
    "from collections import defaultdict\n",
    "\n",
    "def validate_assignments(assignments):\n",
    "    pair_count = defaultdict(int)\n",
    "    \n",
    "    # Count occurrences of each query-document pair across annotators\n",
    "    for annotator, queries in assignments.items():\n",
    "        for query, docs in queries.items():\n",
    "            for doc in docs:\n",
    "                pair = (query, doc)\n",
    "                pair_count[pair] += 1\n",
    "                \n",
    "                # Check if the pair has been assigned more than twice\n",
    "                if pair_count[pair] > 2:\n",
    "                    print(f\"Error: The query-document pair {pair} has been assigned more than twice.\")\n",
    "                    # Optionally, raise an exception or take corrective action here\n",
    "                    raise ValueError(f\"Query-document pair {pair} is assigned more than twice.\")\n",
    "    \n",
    "    print(\"All query-document pairs are assigned correctly.\")\n",
    "    return True\n",
    "\n",
    "# Example usage after distributing extra annotations\n",
    "validate_assignments(extra_assignments)"
   ]
  }
 ],
 "metadata": {
  "kernelspec": {
   "display_name": "Python 3 (ipykernel)",
   "language": "python",
   "name": "python3"
  },
  "language_info": {
   "codemirror_mode": {
    "name": "ipython",
    "version": 3
   },
   "file_extension": ".py",
   "mimetype": "text/x-python",
   "name": "python",
   "nbconvert_exporter": "python",
   "pygments_lexer": "ipython3",
   "version": "3.10.12"
  }
 },
 "nbformat": 4,
 "nbformat_minor": 4
}
