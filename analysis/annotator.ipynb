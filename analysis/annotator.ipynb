{
 "cells": [
  {
   "cell_type": "markdown",
   "metadata": {},
   "source": [
    "# Annotator Analysis for TREC Deep Learning Queries\n",
    "\n",
    "This notebook provides a simple data ingestion pipeline from which further analysis can be derived as a group"
   ]
  },
  {
   "cell_type": "markdown",
   "metadata": {},
   "source": [
    "## Data Ingestion"
   ]
  },
  {
   "cell_type": "code",
   "execution_count": 139,
   "metadata": {},
   "outputs": [],
   "source": [
    "from ir_measures import read_trec_qrels\n",
    "import ir_datasets as irds\n",
    "import pandas as pd\n",
    "import os"
   ]
  },
  {
   "cell_type": "code",
   "execution_count": 140,
   "metadata": {},
   "outputs": [],
   "source": [
    "DATASET = \"msmarco-passage/trec-dl-2019/judged\"\n",
    "qrel_directory = '../judgments/pilot-round-01/qrels/'"
   ]
  },
  {
   "cell_type": "code",
   "execution_count": 141,
   "metadata": {},
   "outputs": [],
   "source": [
    "\n",
    "dataset = irds.load(DATASET)\n",
    "original_qrels = pd.DataFrame(dataset.qrels_iter())\n"
   ]
  },
  {
   "cell_type": "code",
   "execution_count": 142,
   "metadata": {},
   "outputs": [],
   "source": [
    "all_qrels = []\n",
    "for file in os.listdir(qrel_directory):\n",
    "    if file.endswith('.txt'):\n",
    "        qrels = pd.DataFrame(read_trec_qrels(qrel_directory + file))\n",
    "        annotator = file.replace('.txt', '').replace('-qrels', '')\n",
    "        qrels['annotator'] = annotator\n",
    "        all_qrels.append(qrels)\n",
    "\n",
    "all_qrels = pd.concat(all_qrels)"
   ]
  },
  {
   "cell_type": "markdown",
   "metadata": {},
   "source": [
    "## Helper Classes"
   ]
  },
  {
   "cell_type": "code",
   "execution_count": 143,
   "metadata": {},
   "outputs": [],
   "source": [
    "import logging\n",
    "import numpy as np \n",
    "from sklearn import metrics\n",
    "from scipy.stats import ttest_ind\n",
    "\n",
    "class TrecQrel:\n",
    "    def __init__(self, filename=None, qrels_header=[\"query\",\"q0\",\"docid\",\"rel\"]):\n",
    "\n",
    "        #TODO: support to check whether the fields match.\n",
    "        if filename:\n",
    "            self.read_qrel(filename, qrels_header)\n",
    "        else:\n",
    "            self.filename = None\n",
    "            self.qrels_data = None\n",
    "\n",
    "    def __repr__(self):\n",
    "        return self.__str__()\n",
    "\n",
    "    def __str__(self):\n",
    "        if self.filename:\n",
    "            return \"Data from file %s\" % (self.get_full_filename_path())\n",
    "        else:\n",
    "            return \"Data file not set yet\"\n",
    "\n",
    "    def __filter_topics(self, df, topics):\n",
    "        if type(topics) is list:\n",
    "            topics = set(topics)\n",
    "        if type(topics) is not set:\n",
    "            print(\"ERROR: topics should be a set\")\n",
    "            return None\n",
    "        return df[df[\"query\"].apply(lambda x: x in topics)]\n",
    "\n",
    "    def print_subset(self, filename, topics=None, labels=None, another_qrel=None):\n",
    "        \"\"\"\n",
    "            Creates a new qrel with name 'filename' based on the selected topics or labels.\n",
    "\n",
    "            A common use case is to have all documents that appear in another qrel. For that,\n",
    "            use 'another_qrel' parameter.\n",
    "        \"\"\"\n",
    "\n",
    "        if another_qrel is None and labels is None and topics is None:\n",
    "            print(\"You should assign a set of labels, topics or at least input another qrel to be filtered.\")\n",
    "            return\n",
    "\n",
    "        dslice = None\n",
    "        if topics is not None and labels is None:\n",
    "            dslice = self.qrels_data[self.qrels_data[\"query\"].apply(lambda x: x in set(topics))]\n",
    "        elif labels is not None and topics is None:\n",
    "            dslice = self.qrels_data[self.qrels_data[\"rel\"].apply(lambda x: x in set(labels))]\n",
    "        elif labels is not None and topics is not None:\n",
    "            dslice = self.qrels_data[(self.qrels_data[\"query\"].apply(lambda x: x in set(topics))) &\n",
    "                    (self.qrels_data[\"rel\"].apply(lambda x: x in set(labels)))]\n",
    "\n",
    "        if another_qrel:\n",
    "            if dslice is None:\n",
    "                dslice = self.qrels_data.copy()\n",
    "            dslice = pd.merge(dslice, another_qrel.qrels_data, on=[\"query\",\"q0\",\"docid\"])\n",
    "            dslice[\"rel\"] = dslice[\"rel_x\"]\n",
    "            del dslice[\"rel_y\"]\n",
    "            del dslice[\"rel_x\"]\n",
    "\n",
    "        dslice[[\"query\", \"q0\", \"docid\", \"rel\"]].to_csv(filename, sep=\" \", header=False, index=False)\n",
    "        print(\"File %s writen.\" % (filename))\n",
    "\n",
    "    @classmethod\n",
    "    def from_dataframe(cls, df):\n",
    "        \"\"\"\n",
    "            Create a TrecQrel object from a pandas dataframe.\n",
    "        \"\"\"\n",
    "        t = TrecQrel()\n",
    "        t.qrels_data = df.rename(columns={\"query_id\":\"query\",\"doc_id\":\"docid\",\"relevance\":\"rel\", 'iteration':'q0'})[[\"query\",\"q0\",\"docid\",\"rel\"]]\n",
    "        return t\n",
    "\n",
    "    def read_qrel(self, filename, qrels_header=None):\n",
    "        # Replace with default argument for qrel_header\n",
    "        if qrels_header is None:\n",
    "            qrels_header = [\"query\", \"q0\", \"docid\", \"rel\"]\n",
    "\n",
    "        # Set filename\n",
    "        self.filename = filename\n",
    "\n",
    "        # Read data from file\n",
    "        self.qrels_data = pd.read_csv(filename, sep=\"\\s+\", names=qrels_header)\n",
    "\n",
    "        # Enforce string type on docid column (if present)\n",
    "        if \"docid\" in self.qrels_data:\n",
    "            self.qrels_data[\"docid\"] = self.qrels_data[\"docid\"].astype(str)\n",
    "        # Enforce string type on q0 column (if present)\n",
    "        if \"q0\" in self.qrels_data:\n",
    "            self.qrels_data[\"q0\"] = self.qrels_data[\"q0\"].astype(str)\n",
    "        # Enforce string type on query column (if present)\n",
    "        if \"query\" in self.qrels_data:\n",
    "            self.qrels_data[\"query\"] = self.qrels_data[\"query\"].astype(str)\n",
    "\n",
    "        # Removes the files that were not judged:\n",
    "        self.qrels_data = self.qrels_data[self.qrels_data[\"rel\"] >= 0]\n",
    "\n",
    "    def compare_with(self, another_qrel, topics=None):\n",
    "        \"\"\"\n",
    "            Compare two qrels for a given set of topics.\n",
    "            Returns means and checks for statistical significant differences.\n",
    "            Only compares documents that are available in both sets.\n",
    "            Use 'topics' parameter if you want to filter even further.\n",
    "        \"\"\"\n",
    "        if topics is not None:\n",
    "            dslice = self.__filter_topics(self.qrels_data, topics)\n",
    "            oslice = self.__filter_topics(another_qrel.qrels_data, topics)\n",
    "        else:\n",
    "            dslice = self.qrels_data\n",
    "            oslice = another_qrel.qrels_data\n",
    "\n",
    "        merged = pd.merge(dslice, oslice, on=[\"query\",\"q0\",\"docid\"])\n",
    "        a = merged[\"rel_x\"]\n",
    "        b = merged[\"rel_y\"]\n",
    "        s, p = ttest_ind(a,b)\n",
    "        print(\"This:  %.2f - %.2f\" % (a.mean(), a.std()))\n",
    "        print(\"Other: %.2f - %.2f\" % (b.mean(), b.std()))\n",
    "        print(\"significance: \", p)\n",
    "        print(\"number of examples: \", a.shape[0])\n",
    "        return (a.mean(), a.std(), b.mean(), b.std(), p, a.shape[0])\n",
    "\n",
    "    def describe(self, topics=None):\n",
    "        if topics is not None:\n",
    "            dslice = self.__filter_topics(self.qrels_data, topics)\n",
    "            if dslice is not None:\n",
    "                return dslice[\"rel\"].describe()\n",
    "        else:\n",
    "            return self.qrels_data[\"rel\"].describe()\n",
    "\n",
    "    def topics(self):\n",
    "        return set(self.qrels_data[\"query\"].unique())\n",
    "\n",
    "    def topics_intersection_with(self, another_qrel):\n",
    "        return self.topics().intersection(another_qrel.topics())\n",
    "\n",
    "    def fill_up(self, another_qrel):\n",
    "        \"\"\"\n",
    "            Complete the judgments for topics that have no judgement yet. It does not change anything in topics that have\n",
    "            already some judgment.\n",
    "        \"\"\"\n",
    "        new_topics = another_qrel.topics() - self.topics()\n",
    "        for topic in new_topics:\n",
    "            new_data = another_qrel.qrels_data[another_qrel.qrels_data[\"query\"] == topic]\n",
    "            self.qrels_data = pd.concat((self.qrels_data,new_data))\n",
    "            logging.warning(\"Added topic %s\" % str(topic))\n",
    "\n",
    "    def get_full_filename_path(self):\n",
    "        return os.path.abspath(os.path.expanduser(self.filename))\n",
    "\n",
    "    def get_filename(self):\n",
    "        return os.path.basename(self.get_full_filename_path())\n",
    "\n",
    "    def get_number_of(self, label, topics=None):\n",
    "        if topics is not None:\n",
    "            dslice = self.qrels_data[self.qrels_data[\"query\"].apply(lambda x: x in set(topics))]\n",
    "            return (dslice[\"rel\"] == label).sum()\n",
    "        else:\n",
    "            return (self.qrels_data[\"rel\"] == label).sum()\n",
    "\n",
    "    def check_kappa(self, another_qrel):\n",
    "        \"\"\"\n",
    "            Kappa coeficient for binary data only.\n",
    "        \"\"\"\n",
    "        # TODO: check if there are only two categories.\n",
    "        r = pd.merge(self.qrels_data, another_qrel.qrels_data, on=[\"query\",\"q0\",\"docid\"]) # TODO: rename fields as done in trec_res\n",
    "        a, b = r[\"rel_x\"], r[\"rel_y\"]\n",
    "        p0 = 1. * (a == b).sum() / a.shape[0]\n",
    "        a_true_percentage = 1. * a.sum() / a.shape[0]\n",
    "        b_true_percentage = 1. * b.sum() / b.shape[0]\n",
    "        pe = (a_true_percentage * b_true_percentage) + ((1. - a_true_percentage) * (1. - b_true_percentage))\n",
    "        print(\"P0: %.2f, Pe = %.2f\" % (p0, pe))\n",
    "        return (p0 - pe) / (1.0 - pe)\n",
    "\n",
    "    def check_overlap(self, another_qrel, min_rel_label=1):\n",
    "        r = pd.merge(self.qrels_data, another_qrel.qrels_data, on=[\"query\",\"q0\",\"docid\"]) # TODO: rename fields as done in trec_res\n",
    "        intersection = r[(r[\"rel_x\"] >= min_rel_label) & (r[\"rel_y\"] >= min_rel_label)]\n",
    "        union = r[(r[\"rel_x\"] >= min_rel_label) | (r[\"rel_y\"] >= min_rel_label)]\n",
    "        return 1. * intersection.shape[0] / union.shape[0]\n",
    "\n",
    "    def check_jaccard(self, another_qrel, topics=None):\n",
    "        # TODO\n",
    "        pass\n",
    "\n",
    "    def check_confusion_matrix(self, another_qrel, topics=None, labels=None):\n",
    "        \"\"\"\n",
    "            Returns a confusion matrix for the topics that this qrel and another_qrel have in common.\n",
    "            Use the paramenters topics and labels to restrict even more the topics and labels shown.\n",
    "        \"\"\"\n",
    "        r = pd.merge(self.qrels_data, another_qrel.qrels_data, on=[\"query\",\"q0\",\"docid\"]) # TODO: rename fields as done in trec_res\n",
    "        if topics:\n",
    "            r = self.__filter_topics(r, topics)\n",
    "            if r is None:\n",
    "                print(\"ERROR in filtering topics\")\n",
    "                return None\n",
    "            print(\"Resulting topics being used: \", r[\"query\"].unique())\n",
    "        return metrics.confusion_matrix(r[\"rel_x\"], r[\"rel_y\"], labels=labels)\n",
    "\n",
    "    def explore_agreement(self, another_qrel, topic):\n",
    "        \"\"\"\n",
    "            Giving another set of relevance assessments and a topic, it returns for each document whether or not an agreement was found.\n",
    "        \"\"\"\n",
    "        slice1 = self.qrels_data[self.qrels_data[\"query\"] == topic]\n",
    "        slice2 = another_qrel.qrels_data[another_qrel.qrels_data[\"query\"] == topic]\n",
    "\n",
    "        return pd.merge(slice1, slice2, on=[\"query\",\"q0\",\"docid\"])\n",
    "\n",
    "    def check_agreement(self, another_qrel, topics=None, labels=None):\n",
    "\n",
    "        if labels is not None:\n",
    "            #TODO: add support for filtering some labels\n",
    "            print(\"SORRY LABEL SUPPORT NOT IMPLEMENTED YET\")\n",
    "            return None\n",
    "\n",
    "        r = pd.merge(self.qrels_data, another_qrel.qrels_data, on=[\"query\",\"q0\",\"docid\"]) # TODO: rename fields as done in trec_res\n",
    "\n",
    "        if r.shape[0] == 0:\n",
    "            print(\"No registers in common\")\n",
    "            return np.nan\n",
    "\n",
    "        if topics:\n",
    "            agreements = {}\n",
    "            for topic in topics:\n",
    "                rt = r[r[\"query\"] == topic]\n",
    "                if rt.shape[0] == 0:\n",
    "                    print(\"ERROR: invalid topic:\", topic)\n",
    "                    agreements[topic] = np.nan\n",
    "                    continue\n",
    "\n",
    "                agreements[topic] = 1.0 * (rt[\"rel_x\"] == rt[\"rel_y\"]).sum() / rt.shape[0]\n",
    "            return agreements\n",
    "\n",
    "        return 1.0 * (r[\"rel_x\"] == r[\"rel_y\"]).sum() / r.shape[0]\n",
    "\n",
    "    def pairwise_matrix(self, another_qrel):\n",
    "        r = pd.merge(self.qrels_data, another_qrel.qrels_data, on=[\"query\",\"q0\",\"docid\"])\n",
    "        m = np.zeros((3,3))\n",
    "        def fmap(a,b):\n",
    "            if a < b:\n",
    "                return 0\n",
    "            elif a == b:\n",
    "                return 1\n",
    "            return 2\n",
    "        for t in r[\"query\"].unique():\n",
    "            tslice = r[r[\"query\"] == t]\n",
    "            vs = tslice[[\"docid\",\"rel_x\", \"rel_y\"]].values\n",
    "            for i in range(vs.shape[0]):\n",
    "                for j in range(i, vs.shape[0]):\n",
    "                    m[fmap(vs[i][1],vs[i][2])][fmap(vs[j][1],vs[j][2])] += 1\n",
    "\n",
    "        print(\"Pairwise Agreement: %.2f \" % (1.* (m[0][0] + m[1][1] + m[2][2]) / m.sum()))\n",
    "        print(\"Total Disagement: %.2f \" % (1.* (m[0][2] + m[2][0]) / m.sum()))\n",
    "        return m\n",
    "\n",
    "    def merge_with(self, another_qrel, operation=\"or\", keep_all=False, filename=None):\n",
    "\n",
    "        if keep_all:\n",
    "            r = pd.merge(self.qrels_data, another_qrel.qrels_data, on=[\"query\",\"q0\",\"docid\"], how=\"outer\")\n",
    "            r.fillna(-1, inplace=True)\n",
    "            r[\"q0\"] = r[\"q0\"].astype(int)\n",
    "            # TODO: not desirable as this will limit the queries to be integer\n",
    "            r[\"query\"] = r[\"query\"].astype(int)\n",
    "\n",
    "        else:\n",
    "            r = pd.merge(self.qrels_data, another_qrel.qrels_data, on=[\"query\",\"q0\",\"docid\"])\n",
    "\n",
    "        if operation == \"or\":\n",
    "            r[\"rel\"] = r[[\"rel_x\", \"rel_y\"]].apply(max, axis=1)\n",
    "        elif operation == \"and\":\n",
    "            r[\"rel\"] = r[[\"rel_x\", \"rel_y\"]].apply(min, axis=1)\n",
    "        else:\n",
    "            print(\"ERROR: No such operation %s. Options are 'or', 'and'.\" % (operation))\n",
    "            return None\n",
    "\n",
    "        if keep_all:\n",
    "            r[\"rel\"] = np.where(r[\"rel_y\"] < 0, r[\"rel_x\"], r[\"rel\"])\n",
    "            r[\"rel\"] = np.where(r[\"rel_x\"] < 0, r[\"rel_y\"], r[\"rel\"])\n",
    "\n",
    "        r[\"rel\"] = r[\"rel\"].astype(int)\n",
    "\n",
    "        if filename:\n",
    "            r[[\"query\", \"q0\", \"docid\", \"rel\"]].to_csv(filename, sep=\" \", header=False, index=False)\n",
    "            print(\"File %s writen.\" % (filename))\n",
    "\n",
    "        return r[[\"query\", \"q0\", \"docid\", \"rel\"]]\n",
    "\n",
    "    def get_judgement(self, document, topic):\n",
    "        \"\"\"\n",
    "        Returns \"rel\" value if the pair document-topic is found.\n",
    "        Else, returns -1.\n",
    "        \"\"\"\n",
    "        returned = self.qrels_data.loc[(self.qrels_data[\"docid\"] == document) & (self.qrels_data[\"query\"] == topic)]\n",
    "        if returned.shape[0] > 1:\n",
    "            print(\"ERROR: more than one value returned.\")\n",
    "            return returned\n",
    "        elif returned.shape[0] == 1:\n",
    "            return returned[\"rel\"].values[0]\n",
    "        else:\n",
    "            return -1\n",
    "\n",
    "    def get_document_names_for_topic(self, topicX):\n",
    "        \"\"\"\n",
    "            return a set with the names of all documents judged for topic X.\n",
    "        \"\"\"\n",
    "        return set(self.qrels_data[self.qrels_data[\"query\"] == topicX][\"docid\"])"
   ]
  },
  {
   "cell_type": "markdown",
   "metadata": {},
   "source": [
    "## Preliminary Analysis"
   ]
  },
  {
   "cell_type": "code",
   "execution_count": 144,
   "metadata": {},
   "outputs": [],
   "source": [
    "import seaborn as sns\n",
    "import matplotlib.pyplot as plt\n",
    "#import trectools as tt"
   ]
  },
  {
   "cell_type": "markdown",
   "metadata": {},
   "source": [
    "### Subset to relevant qrels"
   ]
  },
  {
   "cell_type": "code",
   "execution_count": 145,
   "metadata": {},
   "outputs": [],
   "source": [
    "qids = all_qrels['query_id'].unique()\n",
    "docs_ids = all_qrels['doc_id'].unique()\n",
    "original_qrels_filtered = original_qrels[original_qrels['query_id'].isin(qids)]\n",
    "original_qrels = original_qrels_filtered[original_qrels_filtered['doc_id'].isin(docs_ids)]"
   ]
  },
  {
   "cell_type": "markdown",
   "metadata": {},
   "source": [
    "### Annotator Analysis"
   ]
  },
  {
   "cell_type": "code",
   "execution_count": 146,
   "metadata": {},
   "outputs": [
    {
     "data": {
      "text/plain": [
       "<AxesSubplot: xlabel='relevance', ylabel='Count'>"
      ]
     },
     "execution_count": 146,
     "metadata": {},
     "output_type": "execute_result"
    },
    {
     "data": {
      "image/png": "[encoded data removed]",
      "text/plain": [
       "<Figure size 640x480 with 1 Axes>"
      ]
     },
     "metadata": {},
     "output_type": "display_data"
    }
   ],
   "source": [
    "# sns histogram of relevance \n",
    "sns.histplot(data=original_qrels_filtered, x='relevance', bins=4)"
   ]
  },
  {
   "cell_type": "code",
   "execution_count": 147,
   "metadata": {},
   "outputs": [
    {
     "data": {
      "text/plain": [
       "<AxesSubplot: xlabel='relevance', ylabel='Count'>"
      ]
     },
     "execution_count": 147,
     "metadata": {},
     "output_type": "execute_result"
    },
    {
     "data": {
      "image/png": "[encoded data removed]",
      "text/plain": [
       "<Figure size 640x480 with 1 Axes>"
      ]
     },
     "metadata": {},
     "output_type": "display_data"
    }
   ],
   "source": [
    "tmp_all_qrels = all_qrels[all_qrels['annotator']!= 'ground-truth']\n",
    "sns.histplot(data=tmp_all_qrels, x='relevance', bins=4)"
   ]
  },
  {
   "cell_type": "code",
   "execution_count": 148,
   "metadata": {},
   "outputs": [
    {
     "data": {
      "text/plain": [
       "<AxesSubplot: xlabel='relevance', ylabel='Count'>"
      ]
     },
     "execution_count": 148,
     "metadata": {},
     "output_type": "execute_result"
    },
    {
     "data": {
      "image/png": "[encoded data removed]",
      "text/plain": [
       "<Figure size 640x480 with 1 Axes>"
      ]
     },
     "metadata": {},
     "output_type": "display_data"
    }
   ],
   "source": [
    "sns.histplot(data=tmp_all_qrels, x='relevance', bins=4, hue='annotator', multiple=\"stack\", palette='viridis')"
   ]
  },
  {
   "cell_type": "code",
   "execution_count": 149,
   "metadata": {},
   "outputs": [],
   "source": [
    "original_qrels_object = TrecQrel.from_dataframe(original_qrels_filtered)"
   ]
  },
  {
   "cell_type": "code",
   "execution_count": 150,
   "metadata": {},
   "outputs": [
    {
     "name": "stdout",
     "output_type": "stream",
     "text": [
      "P0: nan, Pe = nan\n",
      "P0: nan, Pe = nan\n",
      "P0: nan, Pe = nan\n",
      "P0: nan, Pe = nan\n",
      "P0: nan, Pe = nan\n",
      "P0: nan, Pe = nan\n",
      "P0: nan, Pe = nan\n"
     ]
    },
    {
     "name": "stderr",
     "output_type": "stream",
     "text": [
      "/tmp/ipykernel_723566/487592143.py:167: RuntimeWarning: invalid value encountered in scalar divide\n",
      "  p0 = 1. * (a == b).sum() / a.shape[0]\n",
      "/tmp/ipykernel_723566/487592143.py:168: RuntimeWarning: invalid value encountered in scalar divide\n",
      "  a_true_percentage = 1. * a.sum() / a.shape[0]\n",
      "/tmp/ipykernel_723566/487592143.py:169: RuntimeWarning: invalid value encountered in scalar divide\n",
      "  b_true_percentage = 1. * b.sum() / b.shape[0]\n",
      "/tmp/ipykernel_723566/487592143.py:167: RuntimeWarning: invalid value encountered in scalar divide\n",
      "  p0 = 1. * (a == b).sum() / a.shape[0]\n",
      "/tmp/ipykernel_723566/487592143.py:168: RuntimeWarning: invalid value encountered in scalar divide\n",
      "  a_true_percentage = 1. * a.sum() / a.shape[0]\n",
      "/tmp/ipykernel_723566/487592143.py:169: RuntimeWarning: invalid value encountered in scalar divide\n",
      "  b_true_percentage = 1. * b.sum() / b.shape[0]\n",
      "/tmp/ipykernel_723566/487592143.py:167: RuntimeWarning: invalid value encountered in scalar divide\n",
      "  p0 = 1. * (a == b).sum() / a.shape[0]\n",
      "/tmp/ipykernel_723566/487592143.py:168: RuntimeWarning: invalid value encountered in scalar divide\n",
      "  a_true_percentage = 1. * a.sum() / a.shape[0]\n",
      "/tmp/ipykernel_723566/487592143.py:169: RuntimeWarning: invalid value encountered in scalar divide\n",
      "  b_true_percentage = 1. * b.sum() / b.shape[0]\n",
      "/tmp/ipykernel_723566/487592143.py:167: RuntimeWarning: invalid value encountered in scalar divide\n",
      "  p0 = 1. * (a == b).sum() / a.shape[0]\n",
      "/tmp/ipykernel_723566/487592143.py:168: RuntimeWarning: invalid value encountered in scalar divide\n",
      "  a_true_percentage = 1. * a.sum() / a.shape[0]\n",
      "/tmp/ipykernel_723566/487592143.py:169: RuntimeWarning: invalid value encountered in scalar divide\n",
      "  b_true_percentage = 1. * b.sum() / b.shape[0]\n",
      "/tmp/ipykernel_723566/487592143.py:167: RuntimeWarning: invalid value encountered in scalar divide\n",
      "  p0 = 1. * (a == b).sum() / a.shape[0]\n",
      "/tmp/ipykernel_723566/487592143.py:168: RuntimeWarning: invalid value encountered in scalar divide\n",
      "  a_true_percentage = 1. * a.sum() / a.shape[0]\n",
      "/tmp/ipykernel_723566/487592143.py:169: RuntimeWarning: invalid value encountered in scalar divide\n",
      "  b_true_percentage = 1. * b.sum() / b.shape[0]\n",
      "/tmp/ipykernel_723566/487592143.py:167: RuntimeWarning: invalid value encountered in scalar divide\n",
      "  p0 = 1. * (a == b).sum() / a.shape[0]\n",
      "/tmp/ipykernel_723566/487592143.py:168: RuntimeWarning: invalid value encountered in scalar divide\n",
      "  a_true_percentage = 1. * a.sum() / a.shape[0]\n",
      "/tmp/ipykernel_723566/487592143.py:169: RuntimeWarning: invalid value encountered in scalar divide\n",
      "  b_true_percentage = 1. * b.sum() / b.shape[0]\n",
      "/tmp/ipykernel_723566/487592143.py:167: RuntimeWarning: invalid value encountered in scalar divide\n",
      "  p0 = 1. * (a == b).sum() / a.shape[0]\n",
      "/tmp/ipykernel_723566/487592143.py:168: RuntimeWarning: invalid value encountered in scalar divide\n",
      "  a_true_percentage = 1. * a.sum() / a.shape[0]\n",
      "/tmp/ipykernel_723566/487592143.py:169: RuntimeWarning: invalid value encountered in scalar divide\n",
      "  b_true_percentage = 1. * b.sum() / b.shape[0]\n"
     ]
    }
   ],
   "source": [
    "for annotator, qrel in all_qrels.groupby('annotator'):\n",
    "    qrel_object = TrecQrel.from_dataframe(qrel)\n",
    "    original_qrels_object.check_kappa(qrel_object)\n"
   ]
  }
 ],
 "metadata": {
  "kernelspec": {
   "display_name": "Python 3",
   "language": "python",
   "name": "python3"
  },
  "language_info": {
   "codemirror_mode": {
    "name": "ipython",
    "version": 3
   },
   "file_extension": ".py",
   "mimetype": "text/x-python",
   "name": "python",
   "nbconvert_exporter": "python",
   "pygments_lexer": "ipython3",
   "version": "3.10.12"
  }
 },
 "nbformat": 4,
 "nbformat_minor": 2
}
